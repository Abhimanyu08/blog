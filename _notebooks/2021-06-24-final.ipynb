{
 "cells": [
  {
   "cell_type": "markdown",
   "id": "a8c61082-5075-437f-afbc-3db069e27d6f",
   "metadata": {},
   "source": [
    "# High Performance Python Notes\n",
    "> My notes for the book \"High Performance Python\"\n",
    "- toc: true \n",
    "- badges: false\n",
    "- comments: true\n",
    "- categories: [programming]\n",
    "<!-- - image: images/normal-dist.jpg -->"
   ]
  },
  {
   "cell_type": "markdown",
   "id": "fa5fd5ea-3901-4bdf-81bb-dda1df9081bf",
   "metadata": {},
   "source": [
    "Making the code faster requires us to first understand where are the bottlenecks in our program. By finding out pieces of code which are taking the longest time we can narrow down our focus to those and save ourselves from spending our time and energy on parts of programme which were already optimized for performance. "
   ]
  },
  {
   "cell_type": "markdown",
   "id": "f5a92d54-1efd-4003-93f9-890a426e3164",
   "metadata": {},
   "source": [
    "## Profiling to find bottlenecks"
   ]
  },
  {
   "cell_type": "markdown",
   "id": "f45819c3-b07e-4289-95db-ef23ce8eda85",
   "metadata": {},
   "source": [
    "Let's say we want to calculate how much time a function `foo` in our program takes to run. We can do this using `time` module and calculating the time taken wherever the function is called"
   ]
  },
  {
   "cell_type": "code",
   "execution_count": null,
   "id": "fc4f30a9-17b4-427e-a767-6873f46d080f",
   "metadata": {},
   "outputs": [],
   "source": [
    "import time\n",
    "\n",
    "start = time.time() ## Noting the start time\n",
    "\n",
    "foo(*args, **kwargs) ## calling the function\n",
    "\n",
    "end = time.time() ## noting the end time\n",
    "\n",
    "print(f'The function {foo.__name__} took {end-start} seconds to run')"
   ]
  },
  {
   "cell_type": "markdown",
   "id": "5b884af0-9d08-4f6d-8dba-9f28efc306bb",
   "metadata": {},
   "source": [
    "This approach however requires us to write the code for calculating the time taken by function everywhere the function is called. If the function is called numerous times, this approach can clutter our program.\n",
    "\n",
    "A better approach would be to use decorator"
   ]
  },
  {
   "cell_type": "markdown",
   "id": "2f57c62b-71da-4b7f-b16b-ae0d34fb5001",
   "metadata": {},
   "source": [
    "### Using Decorators"
   ]
  },
  {
   "cell_type": "code",
   "execution_count": 2,
   "id": "9c3d93c0-ccd8-41a7-95d0-aff1b7cf8a85",
   "metadata": {},
   "outputs": [],
   "source": [
    "def timer_func(func):\n",
    "    \n",
    "    def time_measurer(*args, **kwargs):\n",
    "        start = time.time()\n",
    "        \n",
    "        reult = func(*args, **kwargs)\n",
    "        \n",
    "        end = time.time()\n",
    "        \n",
    "        print(f'The function {func.__name__} took {end-start} seconds to run')\n",
    "        \n",
    "        return result\n",
    "    \n",
    "    return time_measurer"
   ]
  },
  {
   "cell_type": "markdown",
   "id": "2fcfdc73-be56-4d42-b566-b1176589486e",
   "metadata": {},
   "source": [
    "Now we only need to \"decorate\"  the function as follows"
   ]
  },
  {
   "cell_type": "code",
   "execution_count": 5,
   "id": "ec4ddf0b-4e50-47b6-909b-c23f6b365346",
   "metadata": {},
   "outputs": [],
   "source": [
    "@timer_func\n",
    "def foo(*args, **kwargs):\n",
    "    ...\n",
    "    \n",
    "    "
   ]
  },
  {
   "cell_type": "markdown",
   "id": "d69f00d6-82f1-4541-b2c3-b18c2d3898ed",
   "metadata": {},
   "source": [
    "The above code snippet is just a fancy way of saying `foo = timer_func(foo)`.  With this approach, we only need to write the code for calculating the time taken once and then using a decorator we can convert `foo` into a function that prints the time taken and returns the result. Moreover, we can time any function using this decorator\n",
    "\n",
    "But there's one problem with this approach. Whenever the function `foo` will be called it will print out `The function time_measurer took 10 seconds to run`. This is because `timer_func` returns a function named \"time_measurer\". We can circumvent this issue by a small fix."
   ]
  },
  {
   "cell_type": "code",
   "execution_count": 6,
   "id": "45f01f5e-c919-43c1-81b8-ea7e7b83af53",
   "metadata": {},
   "outputs": [],
   "source": [
    "from functools import wraps\n",
    "\n",
    "def timer_func(func):\n",
    "    \n",
    "    @wraps(func)\n",
    "    def time_measurer(*args, **kwargs):\n",
    "        start = time.time()\n",
    "        \n",
    "        reult = func(*args, **kwargs)\n",
    "        \n",
    "        end = time.time()\n",
    "        \n",
    "        print(f'The function {func.__name__} took {end-start} seconds to run')\n",
    "        \n",
    "        return result\n",
    "    \n",
    "    return time_measurer"
   ]
  },
  {
   "cell_type": "markdown",
   "id": "a4f285c9-e0dc-47f7-8f5b-6edf9d9b50d7",
   "metadata": {},
   "source": [
    "`wraps` decorator forces the function `time_measurer` to have the same attributes as that of `func`."
   ]
  },
  {
   "cell_type": "markdown",
   "id": "1fbd3262-13c6-470f-9bc1-ef2c3b420586",
   "metadata": {},
   "source": [
    "### Using magic commands"
   ]
  },
  {
   "cell_type": "markdown",
   "id": "a51114ed-e4d8-4766-921c-973b77b4f35a",
   "metadata": {},
   "source": [
    "In Jupyter notebooks we can use magic `%timeit` for timing the function. This will return mean and standard deviation of run time of several calls to the function"
   ]
  },
  {
   "cell_type": "code",
   "execution_count": 3,
   "id": "e3750ade-dd37-4002-bc90-702c6b172751",
   "metadata": {},
   "outputs": [
    {
     "name": "stdout",
     "output_type": "stream",
     "text": [
      "17 s ± 1.41 s per loop (mean ± std. dev. of 7 runs, 1 loop each)\n"
     ]
    }
   ],
   "source": [
    "import julia_set\n",
    "\n",
    "%timeit julia_set.calc_pure_python(desired_width = 1000, max_iterations = 300)"
   ]
  },
  {
   "cell_type": "markdown",
   "id": "68433fe0-76ba-4719-9af3-c6707b79ef73",
   "metadata": {},
   "source": [
    "`timeit` can also be run from command line as:"
   ]
  },
  {
   "cell_type": "code",
   "execution_count": 4,
   "id": "f157097e-db02-46ce-8c7c-d089feeba0be",
   "metadata": {},
   "outputs": [
    {
     "name": "stdout",
     "output_type": "stream",
     "text": [
      "5 loops, best of 2: 16.2 sec per loop\n"
     ]
    }
   ],
   "source": [
    "! python -m timeit -n 5 -r 2 -s \"import julia_set\" \"julia_set.calc_pure_python(desired_width = 1000, max_iterations = 300)\""
   ]
  },
  {
   "cell_type": "markdown",
   "id": "391101f7-6049-48eb-9b4a-0dbab88b0fb9",
   "metadata": {},
   "source": [
    "> Note: Running `timeit` using magic command return mean of all the runs while while running it from command line displays the time of the best run"
   ]
  },
  {
   "cell_type": "markdown",
   "id": "d701694f-cdcd-4d98-9f8a-2be23dcb6a30",
   "metadata": {},
   "source": [
    "### Using cProfile Module"
   ]
  },
  {
   "cell_type": "markdown",
   "id": "319cc859-1e25-41d7-8d78-91c343298868",
   "metadata": {},
   "source": [
    "cProfile is the build in profiling tool in the standard library. Using this module gives more detailed information at the cost of greater overhead. It can be used from command line as below"
   ]
  },
  {
   "cell_type": "code",
   "execution_count": 6,
   "id": "ddef281f-0e66-4dfe-b088-a076d8c4d385",
   "metadata": {},
   "outputs": [
    {
     "name": "stdout",
     "output_type": "stream",
     "text": [
      "         36221990 function calls in 24.540 seconds\n",
      "\n",
      "   Ordered by: cumulative time\n",
      "\n",
      "   ncalls  tottime  percall  cumtime  percall filename:lineno(function)\n",
      "        1    0.000    0.000   24.540   24.540 {built-in method builtins.exec}\n",
      "        1    0.038    0.038   24.540   24.540 julia_set.py:1(<module>)\n",
      "        1    0.894    0.894   24.503   24.503 julia_set.py:21(calc_pure_python)\n",
      "        1   15.991   15.991   23.277   23.277 julia_set.py:7(calculate_z_serial_purepython)\n",
      " 34219980    7.286    0.000    7.286    0.000 {built-in method builtins.abs}\n",
      "  2002000    0.321    0.000    0.321    0.000 {method 'append' of 'list' objects}\n",
      "        1    0.010    0.010    0.010    0.010 {built-in method builtins.sum}\n",
      "        4    0.000    0.000    0.000    0.000 {built-in method builtins.len}\n",
      "        1    0.000    0.000    0.000    0.000 {method 'disable' of '_lsprof.Profiler' objects}\n",
      "\n",
      "\n"
     ]
    }
   ],
   "source": [
    "!python -m cProfile -s cumulative julia_set.py"
   ]
  },
  {
   "cell_type": "markdown",
   "id": "5b2829d0-0f26-4ae6-b51d-1acd0873694d",
   "metadata": {},
   "source": [
    "To get more control over the results of cProfile we can write the results into a statistics file as below:"
   ]
  },
  {
   "cell_type": "code",
   "execution_count": 7,
   "id": "dcf61964-08db-4815-b1d6-b8133fd25486",
   "metadata": {},
   "outputs": [],
   "source": [
    "! python -m cProfile -o profile.stats julia_set.py"
   ]
  },
  {
   "cell_type": "markdown",
   "id": "80e7fb50-2261-4a3f-a780-b0a8edea8dd0",
   "metadata": {},
   "source": [
    "The above line of code writes the results of cProfile in a file named `profile.stats`. We can analyze this file in a seperate programme using the `pstats` module"
   ]
  },
  {
   "cell_type": "code",
   "execution_count": 9,
   "id": "821de3b3-a860-43da-b5a1-e83baea0ee78",
   "metadata": {},
   "outputs": [
    {
     "data": {
      "text/plain": [
       "<pstats.Stats at 0x215b957a160>"
      ]
     },
     "execution_count": 9,
     "metadata": {},
     "output_type": "execute_result"
    }
   ],
   "source": [
    "import pstats\n",
    "\n",
    "p = pstats.Stats(\"profile.stats\")\n",
    "\n",
    "p.sort_stats(\"cumulative\")"
   ]
  },
  {
   "cell_type": "markdown",
   "id": "095929ed-8df5-4975-b023-7a552baa38a4",
   "metadata": {},
   "source": [
    "The last line of code in the cell above sorted the functions according to the cumulative time taken by them"
   ]
  },
  {
   "cell_type": "code",
   "execution_count": 10,
   "id": "60baf425-6d53-4b6d-8a9f-b47c7ac63593",
   "metadata": {},
   "outputs": [
    {
     "name": "stdout",
     "output_type": "stream",
     "text": [
      "Sat Jul 17 10:32:32 2021    profile.stats\n",
      "\n",
      "         36221990 function calls in 24.906 seconds\n",
      "\n",
      "   Ordered by: cumulative time\n",
      "\n",
      "   ncalls  tottime  percall  cumtime  percall filename:lineno(function)\n",
      "        1    0.000    0.000   24.906   24.906 {built-in method builtins.exec}\n",
      "        1    0.039    0.039   24.906   24.906 julia_set.py:1(<module>)\n",
      "        1    0.942    0.942   24.867   24.867 julia_set.py:21(calc_pure_python)\n",
      "        1   16.292   16.292   23.595   23.595 julia_set.py:7(calculate_z_serial_purepython)\n",
      " 34219980    7.303    0.000    7.303    0.000 {built-in method builtins.abs}\n",
      "  2002000    0.319    0.000    0.319    0.000 {method 'append' of 'list' objects}\n",
      "        1    0.011    0.011    0.011    0.011 {built-in method builtins.sum}\n",
      "        4    0.000    0.000    0.000    0.000 {built-in method builtins.len}\n",
      "        1    0.000    0.000    0.000    0.000 {method 'disable' of '_lsprof.Profiler' objects}\n",
      "\n",
      "\n"
     ]
    },
    {
     "data": {
      "text/plain": [
       "<pstats.Stats at 0x215b957a160>"
      ]
     },
     "execution_count": 10,
     "metadata": {},
     "output_type": "execute_result"
    }
   ],
   "source": [
    "p.print_stats()"
   ]
  },
  {
   "cell_type": "markdown",
   "id": "25f50f9b-92fd-4414-92cc-270db93006e6",
   "metadata": {},
   "source": [
    "Similarly, we can sort according to total time taken as follows:"
   ]
  },
  {
   "cell_type": "code",
   "execution_count": 11,
   "id": "757b5a72-259f-4d49-aae1-a727cb2cdc73",
   "metadata": {},
   "outputs": [
    {
     "data": {
      "text/plain": [
       "<pstats.Stats at 0x215b957a160>"
      ]
     },
     "execution_count": 11,
     "metadata": {},
     "output_type": "execute_result"
    }
   ],
   "source": [
    "p.sort_stats(\"tottime\")"
   ]
  },
  {
   "cell_type": "code",
   "execution_count": 12,
   "id": "fcf2bdbc-b4c3-4322-9f36-8d3c8b12c065",
   "metadata": {},
   "outputs": [
    {
     "name": "stdout",
     "output_type": "stream",
     "text": [
      "Sat Jul 17 10:32:32 2021    profile.stats\n",
      "\n",
      "         36221990 function calls in 24.906 seconds\n",
      "\n",
      "   Ordered by: internal time\n",
      "\n",
      "   ncalls  tottime  percall  cumtime  percall filename:lineno(function)\n",
      "        1   16.292   16.292   23.595   23.595 julia_set.py:7(calculate_z_serial_purepython)\n",
      " 34219980    7.303    0.000    7.303    0.000 {built-in method builtins.abs}\n",
      "        1    0.942    0.942   24.867   24.867 julia_set.py:21(calc_pure_python)\n",
      "  2002000    0.319    0.000    0.319    0.000 {method 'append' of 'list' objects}\n",
      "        1    0.039    0.039   24.906   24.906 julia_set.py:1(<module>)\n",
      "        1    0.011    0.011    0.011    0.011 {built-in method builtins.sum}\n",
      "        1    0.000    0.000   24.906   24.906 {built-in method builtins.exec}\n",
      "        4    0.000    0.000    0.000    0.000 {built-in method builtins.len}\n",
      "        1    0.000    0.000    0.000    0.000 {method 'disable' of '_lsprof.Profiler' objects}\n",
      "\n",
      "\n"
     ]
    },
    {
     "data": {
      "text/plain": [
       "<pstats.Stats at 0x215b957a160>"
      ]
     },
     "execution_count": 12,
     "metadata": {},
     "output_type": "execute_result"
    }
   ],
   "source": [
    "p.print_stats()"
   ]
  },
  {
   "cell_type": "markdown",
   "id": "0a0a75ee-35b2-4e1f-803c-5e0ffd9b9d18",
   "metadata": {},
   "source": [
    "To get a sense of which function was called by which, or what are the functions being profiled we can use `print_callers()` method:"
   ]
  },
  {
   "cell_type": "code",
   "execution_count": 13,
   "id": "b3a0aba0-21c5-41c0-b3ef-e30121e181d1",
   "metadata": {},
   "outputs": [
    {
     "name": "stdout",
     "output_type": "stream",
     "text": [
      "   Ordered by: internal time\n",
      "\n",
      "Function                                          was called by...\n",
      "                                                      ncalls  tottime  cumtime\n",
      "julia_set.py:7(calculate_z_serial_purepython)     <-       1   16.292   23.595  julia_set.py:21(calc_pure_python)\n",
      "{built-in method builtins.abs}                    <- 34219980    7.303    7.303  julia_set.py:7(calculate_z_serial_purepython)\n",
      "julia_set.py:21(calc_pure_python)                 <-       1    0.942   24.867  julia_set.py:1(<module>)\n",
      "{method 'append' of 'list' objects}               <- 2002000    0.319    0.319  julia_set.py:21(calc_pure_python)\n",
      "julia_set.py:1(<module>)                          <-       1    0.039   24.906  {built-in method builtins.exec}\n",
      "{built-in method builtins.sum}                    <-       1    0.011    0.011  julia_set.py:21(calc_pure_python)\n",
      "{built-in method builtins.exec}                   <- \n",
      "{built-in method builtins.len}                    <-       2    0.000    0.000  julia_set.py:7(calculate_z_serial_purepython)\n",
      "                                                           2    0.000    0.000  julia_set.py:21(calc_pure_python)\n",
      "{method 'disable' of '_lsprof.Profiler' objects}  <- \n",
      "\n",
      "\n"
     ]
    },
    {
     "data": {
      "text/plain": [
       "<pstats.Stats at 0x215b957a160>"
      ]
     },
     "execution_count": 13,
     "metadata": {},
     "output_type": "execute_result"
    }
   ],
   "source": [
    "p.print_callers()"
   ]
  },
  {
   "cell_type": "markdown",
   "id": "aaafcfbb-828a-4f31-9be8-8fc2c7e38fa0",
   "metadata": {},
   "source": [
    "To print which function called which other functions i.e flipping the information in previous output cell, we can use `p.print_callees()`"
   ]
  },
  {
   "cell_type": "code",
   "execution_count": 14,
   "id": "91e2360b-8b21-41fc-bfb9-49694475ce93",
   "metadata": {},
   "outputs": [
    {
     "name": "stdout",
     "output_type": "stream",
     "text": [
      "   Ordered by: internal time\n",
      "\n",
      "Function                                          called...\n",
      "                                                      ncalls  tottime  cumtime\n",
      "julia_set.py:7(calculate_z_serial_purepython)     -> 34219980    7.303    7.303  {built-in method builtins.abs}\n",
      "                                                           2    0.000    0.000  {built-in method builtins.len}\n",
      "{built-in method builtins.abs}                    -> \n",
      "julia_set.py:21(calc_pure_python)                 ->       1   16.292   23.595  julia_set.py:7(calculate_z_serial_purepython)\n",
      "                                                           2    0.000    0.000  {built-in method builtins.len}\n",
      "                                                           1    0.011    0.011  {built-in method builtins.sum}\n",
      "                                                     2002000    0.319    0.319  {method 'append' of 'list' objects}\n",
      "{method 'append' of 'list' objects}               -> \n",
      "julia_set.py:1(<module>)                          ->       1    0.942   24.867  julia_set.py:21(calc_pure_python)\n",
      "{built-in method builtins.sum}                    -> \n",
      "{built-in method builtins.exec}                   ->       1    0.039   24.906  julia_set.py:1(<module>)\n",
      "{built-in method builtins.len}                    -> \n",
      "{method 'disable' of '_lsprof.Profiler' objects}  -> \n",
      "\n",
      "\n"
     ]
    },
    {
     "data": {
      "text/plain": [
       "<pstats.Stats at 0x215b957a160>"
      ]
     },
     "execution_count": 14,
     "metadata": {},
     "output_type": "execute_result"
    }
   ],
   "source": [
    "p.print_callees()"
   ]
  },
  {
   "cell_type": "markdown",
   "id": "bcaf2353-7830-4bfe-af25-a0a8b96920ad",
   "metadata": {},
   "source": [
    "### Visualising cProfile Output using SnakeViz"
   ]
  },
  {
   "cell_type": "markdown",
   "id": "fc0b1377-d7fb-4bdf-addb-51a764e1afe1",
   "metadata": {},
   "source": [
    "We can use `snakeviz` visulaiser to visualize the outputs of cProfile profiler"
   ]
  },
  {
   "cell_type": "code",
   "execution_count": null,
   "id": "ed161515-387f-4af0-807a-c5ccab5f7678",
   "metadata": {},
   "outputs": [],
   "source": [
    "!pip install snakeviz"
   ]
  },
  {
   "cell_type": "code",
   "execution_count": null,
   "id": "c57713a2-83d9-4ca9-873b-79d542265176",
   "metadata": {},
   "outputs": [],
   "source": [
    "! snakeviz profile.stats"
   ]
  },
  {
   "cell_type": "markdown",
   "id": "af831040-a437-4126-aa58-aa5367c3f5bd",
   "metadata": {},
   "source": [
    "The above line of produces a graphic as shown below:\n",
    "![](my_icons/profiler.PNG)"
   ]
  },
  {
   "cell_type": "markdown",
   "id": "56c815ec-65c5-4cb3-90ed-0e2fbbf5104d",
   "metadata": {},
   "source": [
    "### Using line_profiler for Line-by-Line measurements"
   ]
  },
  {
   "cell_type": "markdown",
   "id": "34f18155-22e8-4e0b-a86a-c6ba93906b6c",
   "metadata": {},
   "source": [
    "Above profiling methods only give information at the function level. That's a good starting point. Once we have figured out the functions which are taking up the most time we can profile them further line by line using the `line_profiler` tool by Robert Kern"
   ]
  },
  {
   "cell_type": "code",
   "execution_count": null,
   "id": "c02787b2-de99-41cb-9394-497cd2b7d116",
   "metadata": {},
   "outputs": [],
   "source": [
    "!pip install line_profiler"
   ]
  },
  {
   "cell_type": "markdown",
   "id": "eafef118-0dc0-4ab4-9e99-a3e994e942fe",
   "metadata": {},
   "source": [
    "Before running the relevant line_profiler commands from the command line we have to decorate the functions we are interested in by `@profile` decorator. The `kernprof` script is used to execute the code. The argument `-l` specifies that we want line-by-line profiling instead of function level. The `-v` argument stand for verbose output. Without `-v` you receive an `.lprof` output which can be later analyzed by `line-profiler` module."
   ]
  },
  {
   "cell_type": "code",
   "execution_count": 1,
   "id": "d7cd6538-c287-422b-b476-37af91a0750c",
   "metadata": {},
   "outputs": [
    {
     "name": "stdout",
     "output_type": "stream",
     "text": [
      "Wrote profile results to julia_set.py.lprof\n",
      "Timer unit: 1e-06 s\n",
      "\n",
      "Total time: 93.4638 s\n",
      "File: julia_set.py\n",
      "Function: calculate_z_serial_purepython at line 7\n",
      "\n",
      "Line #      Hits         Time  Per Hit   % Time  Line Contents\n",
      "==============================================================\n",
      "     7                                           @profile\n",
      "     8                                           def calculate_z_serial_purepython(maxiter, zs, cs):\n",
      "     9                                               \"\"\"Calculate output list using Julia update rule\"\"\"\n",
      "    10         1       5846.4   5846.4      0.0      output = [0] * len(zs)\n",
      "    11   1000001     656046.7      0.7      0.7      for i in range(len(zs)):\n",
      "    12   1000000     655067.5      0.7      0.7          n = 0\n",
      "    13   1000000     750590.3      0.8      0.8          z = zs[i]\n",
      "    14   1000000     719062.3      0.7      0.8          c = cs[i]\n",
      "    15  34219980   36962398.8      1.1     39.5          while abs(z) < 2 and n < maxiter:\n",
      "    16  33219980   27921885.4      0.8     29.9              z = z * z + c\n",
      "    17  33219980   25029336.6      0.8     26.8              n += 1\n",
      "    18   1000000     763567.8      0.8      0.8          output[i] = n\n",
      "    19         1         10.5     10.5      0.0      return output\n",
      "\n",
      "Total time: 159.399 s\n",
      "File: julia_set.py\n",
      "Function: calc_pure_python at line 21\n",
      "\n",
      "Line #      Hits         Time  Per Hit   % Time  Line Contents\n",
      "==============================================================\n",
      "    21                                           @profile\n",
      "    22                                           def calc_pure_python(desired_width, max_iterations):\n",
      "    23                                               \"\"\"Create a list of complex co-ordinates (zs) and complex parameters (cs), build Julia set and display\"\"\"\n",
      "    24         1          9.5      9.5      0.0      x_step = (float(x2 - x1) / float(desired_width))\n",
      "    25         1          2.8      2.8      0.0      y_step = (float(y1 - y2) / float(desired_width))\n",
      "    26         1          1.3      1.3      0.0      x = []\n",
      "    27         1          1.1      1.1      0.0      y = []\n",
      "    28         1          1.2      1.2      0.0      ycoord = y2\n",
      "    29      1001       1255.8      1.3      0.0      while ycoord > y1:\n",
      "    30      1000       1535.0      1.5      0.0          y.append(ycoord)\n",
      "    31      1000       1291.5      1.3      0.0          ycoord += y_step\n",
      "    32         1          1.2      1.2      0.0      xcoord = x1\n",
      "    33      1001       1235.3      1.2      0.0      while xcoord < x2:\n",
      "    34      1000       1406.3      1.4      0.0          x.append(xcoord)\n",
      "    35      1000       1230.4      1.2      0.0          xcoord += x_step\n",
      "    36                                               # set width and height to the generated pixel counts, rather than the\n",
      "    37                                               # pre-rounding desired width and height\n",
      "    38         1          3.1      3.1      0.0      width = len(x)\n",
      "    39         1          1.5      1.5      0.0      height = len(y)\n",
      "    40                                               # build a list of co-ordinates and the initial condition for each cell.\n",
      "    41                                               # Note that our initial condition is a constant and could easily be removed,\n",
      "    42                                               # we use it to simulate a real-world scenario with several inputs to our\n",
      "    43                                               # function\n",
      "    44         1          1.4      1.4      0.0      zs = []\n",
      "    45         1          1.4      1.4      0.0      cs = []\n",
      "    46      1001        958.0      1.0      0.0      for ycoord in y:\n",
      "    47   1001000     886158.6      0.9      0.6          for xcoord in x:\n",
      "    48   1000000    1429082.3      1.4      0.9              zs.append(complex(xcoord, ycoord))\n",
      "    49   1000000    1487039.5      1.5      0.9              cs.append(complex(c_real, c_imag))\n",
      "    50                                           \n",
      "    51                                           #     print(\"Length of x:\", len(x))\n",
      "    52                                           #     print(\"Total elements:\", len(zs))\n",
      "    53                                           #     start_time = time.time()\n",
      "    54         1  155577400.0 155577400.0     97.6      output = calculate_z_serial_purepython(max_iterations, zs, cs)\n",
      "    55                                           #     end_time = time.time()\n",
      "    56                                           #     secs = end_time - start_time\n",
      "    57                                           #     print(calculate_z_serial_purepython.__name__ + \" took\", secs, \"seconds\")\n",
      "    58                                           \n",
      "    59                                               # this sum is expected for 1000^2 grid with 300 iterations\n",
      "    60         1      10861.3  10861.3      0.0      assert sum(output) == 33219980\n",
      "\n"
     ]
    }
   ],
   "source": [
    "! kernprof -l -v julia_set.py"
   ]
  },
  {
   "cell_type": "markdown",
   "id": "ac63b63e-b885-4583-8cc2-a9b018e60c44",
   "metadata": {},
   "source": [
    "By looking at the `%Time` column we can see that the while loop in function `calc_pure_python` takes 39.5 % of the total time it takes to run the whole programme. More specifically the line `while abs(z) < 2 and n < maxiter` takes up 39.5% of the time. We can't figure out which part of either side of `and` takes the most time yet. Also we can see that an operation as simple as `n += 1` takes up 26% of the total time. This is because of the python's dynamic lookup machinery. Every time we encounter that line in the loop python checks whether the `n` object has an `__add__` function. (If it didn't, it'll walk up any inherited classes to see whether any of them has it.), then integer 1 is passed to the `__add__` function to it's thing. To reduce the cost of this rather simple operation, type specialization is the way to go (which we'll encounter later)."
   ]
  },
  {
   "cell_type": "markdown",
   "id": "0b878ec6-05a4-4e51-be6e-7cab96e0ceb5",
   "metadata": {},
   "source": [
    "Now getting back to that time consuming while loop; we want to figure out which one of `abs(z) < 2` and `n < maxiter` took greater time. Whichever takes less time and is False more often should be put on the left side of `and` because if first argument of an `and` statement is False it doesn't even need to look at the second argument."
   ]
  },
  {
   "cell_type": "markdown",
   "id": "cda9798e-b987-4f42-9b98-129822e4ef78",
   "metadata": {},
   "source": [
    "We can breakup the two statements on either send of `and` into seperate lines and then run a line profiler as below:"
   ]
  },
  {
   "cell_type": "code",
   "execution_count": null,
   "id": "b073bd78-18e3-4aae-9213-f454b5a90f75",
   "metadata": {},
   "outputs": [],
   "source": [
    "statement1 = abs(z) < 2\n",
    "statement2 = n < maxiter\n",
    "\n",
    "while statement1 and statement2:\n",
    "    ..."
   ]
  },
  {
   "cell_type": "code",
   "execution_count": 2,
   "id": "448aab9e-5ca5-450c-b6f8-b9579f0c7626",
   "metadata": {},
   "outputs": [
    {
     "name": "stdout",
     "output_type": "stream",
     "text": [
      "Wrote profile results to julia_set.py.lprof\n",
      "Timer unit: 1e-06 s\n",
      "\n",
      "Total time: 156.846 s\n",
      "File: julia_set.py\n",
      "Function: calculate_z_serial_purepython at line 21\n",
      "\n",
      "Line #      Hits         Time  Per Hit   % Time  Line Contents\n",
      "==============================================================\n",
      "    21                                           @profile\n",
      "    22                                           def calculate_z_serial_purepython(maxiter, zs, cs):\n",
      "    23                                               \"\"\"Calculate output list using Julia update rule\"\"\"\n",
      "    24         1       6964.2   6964.2      0.0      output = [0] * len(zs)\n",
      "    25   1000001     727030.2      0.7      0.5      for i in range(len(zs)):\n",
      "    26   1000000     703580.7      0.7      0.4          n = 0\n",
      "    27   1000000     822355.9      0.8      0.5          z = zs[i]\n",
      "    28   1000000     795890.2      0.8      0.5          c = cs[i]\n",
      "    29                                                   while True:\n",
      "    30  34219980   39121477.8      1.1     24.9              statement1 = abs(z) < 2\n",
      "    31  34219980   27895802.9      0.8     17.8              statement2 = n < maxiter\n",
      "    32  34219980   27064761.2      0.8     17.3              if statement1 and statement2: \n",
      "    33  33219980   30971767.7      0.9     19.7                  z = z * z + c\n",
      "    34  33219980   27879240.0      0.8     17.8                  n += 1\n",
      "    35                                                       else: \n",
      "    36                                                           break\n",
      "    37   1000000     857110.0      0.9      0.5          output[i] = n\n",
      "    38         1         10.5     10.5      0.0      return output\n",
      "\n",
      "Total time: 275.555 s\n",
      "File: julia_set.py\n",
      "Function: calc_pure_python at line 41\n",
      "\n",
      "Line #      Hits         Time  Per Hit   % Time  Line Contents\n",
      "==============================================================\n",
      "    41                                           @profile\n",
      "    42                                           def calc_pure_python(desired_width, max_iterations):\n",
      "    43                                               \"\"\"Create a list of complex co-ordinates (zs) and complex parameters (cs), build Julia set and display\"\"\"\n",
      "    44         1          8.5      8.5      0.0      x_step = (float(x2 - x1) / float(desired_width))\n",
      "    45         1          2.6      2.6      0.0      y_step = (float(y1 - y2) / float(desired_width))\n",
      "    46         1          1.3      1.3      0.0      x = []\n",
      "    47         1          1.2      1.2      0.0      y = []\n",
      "    48         1          1.2      1.2      0.0      ycoord = y2\n",
      "    49      1001       1366.8      1.4      0.0      while ycoord > y1:\n",
      "    50      1000       1751.9      1.8      0.0          y.append(ycoord)\n",
      "    51      1000       1422.5      1.4      0.0          ycoord += y_step\n",
      "    52         1          1.3      1.3      0.0      xcoord = x1\n",
      "    53      1001       1414.5      1.4      0.0      while xcoord < x2:\n",
      "    54      1000       1628.6      1.6      0.0          x.append(xcoord)\n",
      "    55      1000       1438.4      1.4      0.0          xcoord += x_step\n",
      "    56                                               # set width and height to the generated pixel counts, rather than the\n",
      "    57                                               # pre-rounding desired width and height\n",
      "    58         1          4.3      4.3      0.0      width = len(x)\n",
      "    59         1          1.7      1.7      0.0      height = len(y)\n",
      "    60                                               # build a list of co-ordinates and the initial condition for each cell.\n",
      "    61                                               # Note that our initial condition is a constant and could easily be removed,\n",
      "    62                                               # we use it to simulate a real-world scenario with several inputs to our\n",
      "    63                                               # function\n",
      "    64         1          2.1      2.1      0.0      zs = []\n",
      "    65         1          1.4      1.4      0.0      cs = []\n",
      "    66      1001       1065.7      1.1      0.0      for ycoord in y:\n",
      "    67   1001000    1016534.9      1.0      0.4          for xcoord in x:\n",
      "    68   1000000    1584552.3      1.6      0.6              zs.append(complex(xcoord, ycoord))\n",
      "    69   1000000    1627592.5      1.6      0.6              cs.append(complex(c_real, c_imag))\n",
      "    70                                           \n",
      "    71                                           #     print(\"Length of x:\", len(x))\n",
      "    72                                           #     print(\"Total elements:\", len(zs))\n",
      "    73                                           #     start_time = time.time()\n",
      "    74         1  271301669.6 271301669.6     98.5      output = calculate_z_serial_purepython(max_iterations, zs, cs)\n",
      "    75                                           #     end_time = time.time()\n",
      "    76                                           #     secs = end_time - start_time\n",
      "    77                                           #     print(calculate_z_serial_purepython.__name__ + \" took\", secs, \"seconds\")\n",
      "    78                                           \n",
      "    79                                               # this sum is expected for 1000^2 grid with 300 iterations\n",
      "    80         1      14830.6  14830.6      0.0      assert sum(output) == 33219980\n",
      "\n"
     ]
    }
   ],
   "source": [
    "! kernprof -l -v julia_set.py"
   ]
  },
  {
   "cell_type": "markdown",
   "id": "2edc03f3-1b3d-4ae5-a8c0-a35fb0f56bf2",
   "metadata": {},
   "source": [
    "It looks as if checking `abs(z) < 2` takes more time than checking `n < maxiter`. Now we need to know which of these two statements is `False` more often. `n < maxiter` will be false on 1 of every 301 calls since `maxiter = 300` in the programme. "
   ]
  }
 ],
 "metadata": {
  "kernelspec": {
   "display_name": "Python 3",
   "language": "python",
   "name": "python3"
  },
  "language_info": {
   "codemirror_mode": {
    "name": "ipython",
    "version": 3
   },
   "file_extension": ".py",
   "mimetype": "text/x-python",
   "name": "python",
   "nbconvert_exporter": "python",
   "pygments_lexer": "ipython3",
   "version": "3.9.6"
  }
 },
 "nbformat": 4,
 "nbformat_minor": 5
}
