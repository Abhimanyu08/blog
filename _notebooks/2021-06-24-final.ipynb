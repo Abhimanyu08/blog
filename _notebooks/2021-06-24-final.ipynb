{
 "cells": [
  {
   "cell_type": "markdown",
   "id": "a8c61082-5075-437f-afbc-3db069e27d6f",
   "metadata": {},
   "source": [
    "# High Performance Python Notes\n",
    "> My notes for the book \"High Performance Python\"\n",
    "- toc: true \n",
    "- badges: false\n",
    "- comments: true\n",
    "- categories: [programming]\n",
    "<!-- - image: images/normal-dist.jpg -->"
   ]
  },
  {
   "cell_type": "markdown",
   "id": "f5a92d54-1efd-4003-93f9-890a426e3164",
   "metadata": {},
   "source": [
    "## Profiling to find bottlenecks"
   ]
  },
  {
   "cell_type": "markdown",
   "id": "f45819c3-b07e-4289-95db-ef23ce8eda85",
   "metadata": {},
   "source": [
    "Let's say we want to calculate how much time a function `foo` in our program takes to run. We can do this using `time` module and calculating the time taken wherever the function is called"
   ]
  },
  {
   "cell_type": "code",
   "execution_count": null,
   "id": "fc4f30a9-17b4-427e-a767-6873f46d080f",
   "metadata": {},
   "outputs": [],
   "source": [
    "import time\n",
    "\n",
    "start = time.time() ## Noting the start time\n",
    "\n",
    "foo(*args, **kwargs) ## calling the function\n",
    "\n",
    "end = time.time() ## noting the end time\n",
    "\n",
    "print(f'The function {foo.__name__} took {end-start} seconds to run')"
   ]
  },
  {
   "cell_type": "markdown",
   "id": "5b884af0-9d08-4f6d-8dba-9f28efc306bb",
   "metadata": {},
   "source": [
    "This approach however requires us to write the code for calculating the time taken by function everywhere the function is called. If the function is called numerous times, this approach can clutter our program.\n",
    "\n",
    "A better approach would be to use decorators"
   ]
  },
  {
   "cell_type": "code",
   "execution_count": 2,
   "id": "9c3d93c0-ccd8-41a7-95d0-aff1b7cf8a85",
   "metadata": {},
   "outputs": [],
   "source": [
    "def timer_func(func):\n",
    "    \n",
    "    def time_measurer(*args, **kwargs):\n",
    "        start = time.time()\n",
    "        \n",
    "        reult = func(*args, **kwargs)\n",
    "        \n",
    "        end = time.time()\n",
    "        \n",
    "        print(f'The function {func.__name__} took {end-start} seconds to run')\n",
    "        \n",
    "        return result\n",
    "    \n",
    "    return time_measurer"
   ]
  },
  {
   "cell_type": "markdown",
   "id": "2fcfdc73-be56-4d42-b566-b1176589486e",
   "metadata": {},
   "source": [
    "Now we only need to \"decorate\"  the function as follows"
   ]
  },
  {
   "cell_type": "code",
   "execution_count": 5,
   "id": "ec4ddf0b-4e50-47b6-909b-c23f6b365346",
   "metadata": {},
   "outputs": [],
   "source": [
    "@timer_func\n",
    "def foo(*args, **kwargs):\n",
    "    ...\n",
    "    \n",
    "    "
   ]
  },
  {
   "cell_type": "markdown",
   "id": "d69f00d6-82f1-4541-b2c3-b18c2d3898ed",
   "metadata": {},
   "source": [
    "The above code snippet is just a fancy way of saying `foo = timer_func(foo)`.  With this approach, we only need to write the code for calculating the time taken once and then using a decorator we can convert `foo` into a function that prints the time taken and returns the result. Moreover, we can time any function using this decorator\n",
    "\n",
    "But there's one problem with this approach. Whenever the function `foo` will be called it will print out `The function time_measurer took 10 seconds to run`. This is because `timer_func` returns a function named \"time_measurer\". We can circumvent this issue by a small fix."
   ]
  },
  {
   "cell_type": "code",
   "execution_count": 6,
   "id": "45f01f5e-c919-43c1-81b8-ea7e7b83af53",
   "metadata": {},
   "outputs": [],
   "source": [
    "from functools import wraps\n",
    "\n",
    "def timer_func(func):\n",
    "    \n",
    "    @wraps(func)\n",
    "    def time_measurer(*args, **kwargs):\n",
    "        start = time.time()\n",
    "        \n",
    "        reult = func(*args, **kwargs)\n",
    "        \n",
    "        end = time.time()\n",
    "        \n",
    "        print(f'The function {func.__name__} took {end-start} seconds to run')\n",
    "        \n",
    "        return result\n",
    "    \n",
    "    return time_measurer"
   ]
  },
  {
   "cell_type": "markdown",
   "id": "a4f285c9-e0dc-47f7-8f5b-6edf9d9b50d7",
   "metadata": {},
   "source": [
    "`wraps` decorator forces the function `time_measurer` to have the same attributes as that of `func`."
   ]
  },
  {
   "cell_type": "code",
   "execution_count": null,
   "id": "27842490-1196-4120-b7c2-c6f67bf2ec82",
   "metadata": {},
   "outputs": [],
   "source": [
    "! git"
   ]
  }
 ],
 "metadata": {
  "kernelspec": {
   "display_name": "Python 3",
   "language": "python",
   "name": "python3"
  },
  "language_info": {
   "codemirror_mode": {
    "name": "ipython",
    "version": 3
   },
   "file_extension": ".py",
   "mimetype": "text/x-python",
   "name": "python",
   "nbconvert_exporter": "python",
   "pygments_lexer": "ipython3",
   "version": "3.9.5"
  }
 },
 "nbformat": 4,
 "nbformat_minor": 5
}
