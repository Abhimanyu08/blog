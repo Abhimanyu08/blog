{
 "cells": [
  {
   "cell_type": "markdown",
   "id": "a8c61082-5075-437f-afbc-3db069e27d6f",
   "metadata": {},
   "source": [
    "# High Performance Python Notes\n",
    "> My notes for the book \"High Performance Python\"\n",
    "- toc: true \n",
    "- badges: false\n",
    "- comments: true\n",
    "- categories: [programming]\n",
    "<!-- - image: images/normal-dist.jpg -->"
   ]
  },
  {
   "cell_type": "markdown",
   "id": "f5a92d54-1efd-4003-93f9-890a426e3164",
   "metadata": {},
   "source": [
    "## Profiling to find bottlenecks"
   ]
  },
  {
   "cell_type": "markdown",
   "id": "f45819c3-b07e-4289-95db-ef23ce8eda85",
   "metadata": {},
   "source": [
    "Let's say we want to calculate how much time a function `foo` in our program takes to run. We can do this using `time` module and calculating the time taken wherever the function is called"
   ]
  },
  {
   "cell_type": "code",
   "execution_count": null,
   "id": "fc4f30a9-17b4-427e-a767-6873f46d080f",
   "metadata": {},
   "outputs": [],
   "source": [
    "import time\n",
    "\n",
    "start = time.time() ## Noting the start time\n",
    "\n",
    "foo(*args, **kwargs) ## calling the function\n",
    "\n",
    "end = time.time() ## noting the end time\n",
    "\n",
    "print(f'The function {foo.__name__} took {end-start} seconds to run')"
   ]
  },
  {
   "cell_type": "markdown",
   "id": "5b884af0-9d08-4f6d-8dba-9f28efc306bb",
   "metadata": {},
   "source": [
    "This approach however requires us to write the code for calculating the time taken by function everywhere the function is called. If the function is called numerous times, this approach can clutter our program.\n",
    "\n",
    "A better approach would be to use decorator"
   ]
  },
  {
   "cell_type": "markdown",
   "id": "2f57c62b-71da-4b7f-b16b-ae0d34fb5001",
   "metadata": {},
   "source": [
    "#### Using Decorators"
   ]
  },
  {
   "cell_type": "code",
   "execution_count": 2,
   "id": "9c3d93c0-ccd8-41a7-95d0-aff1b7cf8a85",
   "metadata": {},
   "outputs": [],
   "source": [
    "def timer_func(func):\n",
    "    \n",
    "    def time_measurer(*args, **kwargs):\n",
    "        start = time.time()\n",
    "        \n",
    "        reult = func(*args, **kwargs)\n",
    "        \n",
    "        end = time.time()\n",
    "        \n",
    "        print(f'The function {func.__name__} took {end-start} seconds to run')\n",
    "        \n",
    "        return result\n",
    "    \n",
    "    return time_measurer"
   ]
  },
  {
   "cell_type": "markdown",
   "id": "2fcfdc73-be56-4d42-b566-b1176589486e",
   "metadata": {},
   "source": [
    "Now we only need to \"decorate\"  the function as follows"
   ]
  },
  {
   "cell_type": "code",
   "execution_count": 5,
   "id": "ec4ddf0b-4e50-47b6-909b-c23f6b365346",
   "metadata": {},
   "outputs": [],
   "source": [
    "@timer_func\n",
    "def foo(*args, **kwargs):\n",
    "    ...\n",
    "    \n",
    "    "
   ]
  },
  {
   "cell_type": "markdown",
   "id": "d69f00d6-82f1-4541-b2c3-b18c2d3898ed",
   "metadata": {},
   "source": [
    "The above code snippet is just a fancy way of saying `foo = timer_func(foo)`.  With this approach, we only need to write the code for calculating the time taken once and then using a decorator we can convert `foo` into a function that prints the time taken and returns the result. Moreover, we can time any function using this decorator\n",
    "\n",
    "But there's one problem with this approach. Whenever the function `foo` will be called it will print out `The function time_measurer took 10 seconds to run`. This is because `timer_func` returns a function named \"time_measurer\". We can circumvent this issue by a small fix."
   ]
  },
  {
   "cell_type": "code",
   "execution_count": 6,
   "id": "45f01f5e-c919-43c1-81b8-ea7e7b83af53",
   "metadata": {},
   "outputs": [],
   "source": [
    "from functools import wraps\n",
    "\n",
    "def timer_func(func):\n",
    "    \n",
    "    @wraps(func)\n",
    "    def time_measurer(*args, **kwargs):\n",
    "        start = time.time()\n",
    "        \n",
    "        reult = func(*args, **kwargs)\n",
    "        \n",
    "        end = time.time()\n",
    "        \n",
    "        print(f'The function {func.__name__} took {end-start} seconds to run')\n",
    "        \n",
    "        return result\n",
    "    \n",
    "    return time_measurer"
   ]
  },
  {
   "cell_type": "markdown",
   "id": "a4f285c9-e0dc-47f7-8f5b-6edf9d9b50d7",
   "metadata": {},
   "source": [
    "`wraps` decorator forces the function `time_measurer` to have the same attributes as that of `func`."
   ]
  },
  {
   "cell_type": "markdown",
   "id": "1fbd3262-13c6-470f-9bc1-ef2c3b420586",
   "metadata": {},
   "source": [
    "#### Using magic commands"
   ]
  },
  {
   "cell_type": "markdown",
   "id": "a51114ed-e4d8-4766-921c-973b77b4f35a",
   "metadata": {},
   "source": [
    "In Jupyter notebooks we can use magic `%timeit` for timing the function. This will return mean and standard deviation of run time of several calls to the function"
   ]
  },
  {
   "cell_type": "code",
   "execution_count": 11,
   "id": "e3750ade-dd37-4002-bc90-702c6b172751",
   "metadata": {},
   "outputs": [
    {
     "name": "stdout",
     "output_type": "stream",
     "text": [
      "6.73 s ± 112 ms per loop (mean ± std. dev. of 7 runs, 1 loop each)\n"
     ]
    }
   ],
   "source": [
    "import julia_set\n",
    "\n",
    "%timeit julia_set.calc_pure_python(desired_width = 1000, max_iterations = 300)"
   ]
  },
  {
   "cell_type": "markdown",
   "id": "68433fe0-76ba-4719-9af3-c6707b79ef73",
   "metadata": {},
   "source": [
    "`timeit` can also be run from command line as:"
   ]
  },
  {
   "cell_type": "code",
   "execution_count": 9,
   "id": "f157097e-db02-46ce-8c7c-d089feeba0be",
   "metadata": {},
   "outputs": [
    {
     "name": "stdout",
     "output_type": "stream",
     "text": [
      "5 loops, best of 2: 6.96 sec per loop\n"
     ]
    }
   ],
   "source": [
    "! python -m timeit -n 5 -r 2 -s \"import julia_set\" \"julia_set.calc_pure_python(desired_width = 1000, max_iterations = 300)\""
   ]
  },
  {
   "cell_type": "markdown",
   "id": "391101f7-6049-48eb-9b4a-0dbab88b0fb9",
   "metadata": {},
   "source": [
    "> Note: Running `timeit` using magic command return mean of all the runs while while running it from command line displays the time of the best run"
   ]
  }
 ],
 "metadata": {
  "kernelspec": {
   "display_name": "Python 3",
   "language": "python",
   "name": "python3"
  },
  "language_info": {
   "codemirror_mode": {
    "name": "ipython",
    "version": 3
   },
   "file_extension": ".py",
   "mimetype": "text/x-python",
   "name": "python",
   "nbconvert_exporter": "python",
   "pygments_lexer": "ipython3",
   "version": "3.9.5"
  }
 },
 "nbformat": 4,
 "nbformat_minor": 5
}
