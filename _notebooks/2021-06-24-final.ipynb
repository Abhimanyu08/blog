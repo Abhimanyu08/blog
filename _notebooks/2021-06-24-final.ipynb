{
 "cells": [
  {
   "cell_type": "markdown",
   "id": "a8c61082-5075-437f-afbc-3db069e27d6f",
   "metadata": {},
   "source": [
    "# High Performance Python Notes\n",
    "> My notes for the book \"High Performance Python\"\n",
    "- toc: true \n",
    "- badges: false\n",
    "- comments: true\n",
    "- categories: [programming]\n",
    "<!-- - image: images/normal-dist.jpg -->"
   ]
  },
  {
   "cell_type": "markdown",
   "id": "f5a92d54-1efd-4003-93f9-890a426e3164",
   "metadata": {},
   "source": [
    "## Profiling to find bottlenecks"
   ]
  },
  {
   "cell_type": "markdown",
   "id": "f45819c3-b07e-4289-95db-ef23ce8eda85",
   "metadata": {},
   "source": [
    "Let's say we want to calculate how much time a function `foo` in our program takes to run. We can do this using `time` module and calculating the time taken wherever the function is called"
   ]
  },
  {
   "cell_type": "code",
   "execution_count": null,
   "id": "fc4f30a9-17b4-427e-a767-6873f46d080f",
   "metadata": {},
   "outputs": [],
   "source": [
    "import time\n",
    "\n",
    "start = time.time() ## Noting the start time\n",
    "\n",
    "foo(*args, **kwargs) ## calling the function\n",
    "\n",
    "end = time.time() ## noting the end time\n",
    "\n",
    "print(f'The function {foo.__name__} took {end-start} seconds to run')"
   ]
  },
  {
   "cell_type": "markdown",
   "id": "5b884af0-9d08-4f6d-8dba-9f28efc306bb",
   "metadata": {},
   "source": [
    "This approach however requires us to write the code for calculating the time taken by function everywhere the function is called. If the function is called numerous times, this approach can clutter our program.\n",
    "\n",
    "A better approach would be to use decorator"
   ]
  },
  {
   "cell_type": "markdown",
   "id": "2f57c62b-71da-4b7f-b16b-ae0d34fb5001",
   "metadata": {},
   "source": [
    "### Using Decorators"
   ]
  },
  {
   "cell_type": "code",
   "execution_count": 2,
   "id": "9c3d93c0-ccd8-41a7-95d0-aff1b7cf8a85",
   "metadata": {},
   "outputs": [],
   "source": [
    "def timer_func(func):\n",
    "    \n",
    "    def time_measurer(*args, **kwargs):\n",
    "        start = time.time()\n",
    "        \n",
    "        reult = func(*args, **kwargs)\n",
    "        \n",
    "        end = time.time()\n",
    "        \n",
    "        print(f'The function {func.__name__} took {end-start} seconds to run')\n",
    "        \n",
    "        return result\n",
    "    \n",
    "    return time_measurer"
   ]
  },
  {
   "cell_type": "markdown",
   "id": "2fcfdc73-be56-4d42-b566-b1176589486e",
   "metadata": {},
   "source": [
    "Now we only need to \"decorate\"  the function as follows"
   ]
  },
  {
   "cell_type": "code",
   "execution_count": 5,
   "id": "ec4ddf0b-4e50-47b6-909b-c23f6b365346",
   "metadata": {},
   "outputs": [],
   "source": [
    "@timer_func\n",
    "def foo(*args, **kwargs):\n",
    "    ...\n",
    "    \n",
    "    "
   ]
  },
  {
   "cell_type": "markdown",
   "id": "d69f00d6-82f1-4541-b2c3-b18c2d3898ed",
   "metadata": {},
   "source": [
    "The above code snippet is just a fancy way of saying `foo = timer_func(foo)`.  With this approach, we only need to write the code for calculating the time taken once and then using a decorator we can convert `foo` into a function that prints the time taken and returns the result. Moreover, we can time any function using this decorator\n",
    "\n",
    "But there's one problem with this approach. Whenever the function `foo` will be called it will print out `The function time_measurer took 10 seconds to run`. This is because `timer_func` returns a function named \"time_measurer\". We can circumvent this issue by a small fix."
   ]
  },
  {
   "cell_type": "code",
   "execution_count": 6,
   "id": "45f01f5e-c919-43c1-81b8-ea7e7b83af53",
   "metadata": {},
   "outputs": [],
   "source": [
    "from functools import wraps\n",
    "\n",
    "def timer_func(func):\n",
    "    \n",
    "    @wraps(func)\n",
    "    def time_measurer(*args, **kwargs):\n",
    "        start = time.time()\n",
    "        \n",
    "        reult = func(*args, **kwargs)\n",
    "        \n",
    "        end = time.time()\n",
    "        \n",
    "        print(f'The function {func.__name__} took {end-start} seconds to run')\n",
    "        \n",
    "        return result\n",
    "    \n",
    "    return time_measurer"
   ]
  },
  {
   "cell_type": "markdown",
   "id": "a4f285c9-e0dc-47f7-8f5b-6edf9d9b50d7",
   "metadata": {},
   "source": [
    "`wraps` decorator forces the function `time_measurer` to have the same attributes as that of `func`."
   ]
  },
  {
   "cell_type": "markdown",
   "id": "1fbd3262-13c6-470f-9bc1-ef2c3b420586",
   "metadata": {},
   "source": [
    "### Using magic commands"
   ]
  },
  {
   "cell_type": "markdown",
   "id": "a51114ed-e4d8-4766-921c-973b77b4f35a",
   "metadata": {},
   "source": [
    "In Jupyter notebooks we can use magic `%timeit` for timing the function. This will return mean and standard deviation of run time of several calls to the function"
   ]
  },
  {
   "cell_type": "code",
   "execution_count": 11,
   "id": "e3750ade-dd37-4002-bc90-702c6b172751",
   "metadata": {},
   "outputs": [
    {
     "name": "stdout",
     "output_type": "stream",
     "text": [
      "6.73 s ± 112 ms per loop (mean ± std. dev. of 7 runs, 1 loop each)\n"
     ]
    }
   ],
   "source": [
    "import julia_set\n",
    "\n",
    "%timeit julia_set.calc_pure_python(desired_width = 1000, max_iterations = 300)"
   ]
  },
  {
   "cell_type": "markdown",
   "id": "68433fe0-76ba-4719-9af3-c6707b79ef73",
   "metadata": {},
   "source": [
    "`timeit` can also be run from command line as:"
   ]
  },
  {
   "cell_type": "code",
   "execution_count": 9,
   "id": "f157097e-db02-46ce-8c7c-d089feeba0be",
   "metadata": {},
   "outputs": [
    {
     "name": "stdout",
     "output_type": "stream",
     "text": [
      "5 loops, best of 2: 6.96 sec per loop\n"
     ]
    }
   ],
   "source": [
    "! python -m timeit -n 5 -r 2 -s \"import julia_set\" \"julia_set.calc_pure_python(desired_width = 1000, max_iterations = 300)\""
   ]
  },
  {
   "cell_type": "markdown",
   "id": "391101f7-6049-48eb-9b4a-0dbab88b0fb9",
   "metadata": {},
   "source": [
    "> Note: Running `timeit` using magic command return mean of all the runs while while running it from command line displays the time of the best run"
   ]
  },
  {
   "cell_type": "markdown",
   "id": "d701694f-cdcd-4d98-9f8a-2be23dcb6a30",
   "metadata": {},
   "source": [
    "### Using cProfile Module"
   ]
  },
  {
   "cell_type": "markdown",
   "id": "319cc859-1e25-41d7-8d78-91c343298868",
   "metadata": {},
   "source": [
    "cProfile is the build in profiling tool in the standard library. Using this module gives more detailed information at the cost of greater overhead. It can be used from command line as below"
   ]
  },
  {
   "cell_type": "code",
   "execution_count": 1,
   "id": "ddef281f-0e66-4dfe-b088-a076d8c4d385",
   "metadata": {},
   "outputs": [
    {
     "name": "stdout",
     "output_type": "stream",
     "text": [
      "         36221990 function calls in 11.859 seconds\n",
      "\n",
      "   Ordered by: cumulative time\n",
      "\n",
      "   ncalls  tottime  percall  cumtime  percall filename:lineno(function)\n",
      "        1    0.000    0.000   11.859   11.859 {built-in method builtins.exec}\n",
      "        1    0.025    0.025   11.859   11.859 julia_set.py:1(<module>)\n",
      "        1    0.471    0.471   11.834   11.834 julia_set.py:21(calc_pure_python)\n",
      "        1    7.066    7.066   11.150   11.150 julia_set.py:7(calculate_z_serial_purepython)\n",
      " 34219980    4.084    0.000    4.084    0.000 {built-in method builtins.abs}\n",
      "  2002000    0.207    0.000    0.207    0.000 {method 'append' of 'list' objects}\n",
      "        1    0.006    0.006    0.006    0.006 {built-in method builtins.sum}\n",
      "        4    0.000    0.000    0.000    0.000 {built-in method builtins.len}\n",
      "        1    0.000    0.000    0.000    0.000 {method 'disable' of '_lsprof.Profiler' objects}\n",
      "\n",
      "\n"
     ]
    }
   ],
   "source": [
    "!python -m cProfile -s cumulative julia_set.py"
   ]
  },
  {
   "cell_type": "markdown",
   "id": "5b2829d0-0f26-4ae6-b51d-1acd0873694d",
   "metadata": {},
   "source": [
    "To get more control over the results of cProfile we can write the results into a statistics file as below:"
   ]
  },
  {
   "cell_type": "code",
   "execution_count": 2,
   "id": "dcf61964-08db-4815-b1d6-b8133fd25486",
   "metadata": {},
   "outputs": [],
   "source": [
    "! python -m cProfile -o profile.stats julia_set.py"
   ]
  },
  {
   "cell_type": "markdown",
   "id": "80e7fb50-2261-4a3f-a780-b0a8edea8dd0",
   "metadata": {},
   "source": [
    "The above line of code writes the results of cProfile in a file named `profile.stats`. We can analyze this file in a seperate programme using the `pstats` module"
   ]
  },
  {
   "cell_type": "code",
   "execution_count": 3,
   "id": "56fb6f44-b66a-4907-b920-fa73758a1bf5",
   "metadata": {},
   "outputs": [],
   "source": [
    "import pstats"
   ]
  },
  {
   "cell_type": "code",
   "execution_count": 4,
   "id": "f1ab48fb-606f-419f-8754-0c1f7ac00a63",
   "metadata": {},
   "outputs": [],
   "source": [
    "p = pstats.Stats(\"profile.stats\")"
   ]
  },
  {
   "cell_type": "code",
   "execution_count": 7,
   "id": "6e2e5ac5-237f-4f4c-86ec-2777fcb613bd",
   "metadata": {},
   "outputs": [
    {
     "data": {
      "text/plain": [
       "<pstats.Stats at 0x24c7bdfbc70>"
      ]
     },
     "execution_count": 7,
     "metadata": {},
     "output_type": "execute_result"
    }
   ],
   "source": [
    "p.sort_stats(\"cumulative\")"
   ]
  },
  {
   "cell_type": "markdown",
   "id": "095929ed-8df5-4975-b023-7a552baa38a4",
   "metadata": {},
   "source": [
    "The above line of code sorted the functions according to the cumulative time taken by them"
   ]
  },
  {
   "cell_type": "code",
   "execution_count": 8,
   "id": "60baf425-6d53-4b6d-8a9f-b47c7ac63593",
   "metadata": {},
   "outputs": [
    {
     "name": "stdout",
     "output_type": "stream",
     "text": [
      "Wed Jun 30 18:58:11 2021    profile.stats\n",
      "\n",
      "         36221990 function calls in 11.664 seconds\n",
      "\n",
      "   Ordered by: cumulative time\n",
      "\n",
      "   ncalls  tottime  percall  cumtime  percall filename:lineno(function)\n",
      "        1    0.000    0.000   11.664   11.664 {built-in method builtins.exec}\n",
      "        1    0.028    0.028   11.664   11.664 julia_set.py:1(<module>)\n",
      "        1    0.451    0.451   11.637   11.637 julia_set.py:21(calc_pure_python)\n",
      "        1    6.911    6.911   10.985   10.985 julia_set.py:7(calculate_z_serial_purepython)\n",
      " 34219980    4.075    0.000    4.075    0.000 {built-in method builtins.abs}\n",
      "  2002000    0.195    0.000    0.195    0.000 {method 'append' of 'list' objects}\n",
      "        1    0.006    0.006    0.006    0.006 {built-in method builtins.sum}\n",
      "        4    0.000    0.000    0.000    0.000 {built-in method builtins.len}\n",
      "        1    0.000    0.000    0.000    0.000 {method 'disable' of '_lsprof.Profiler' objects}\n",
      "\n",
      "\n"
     ]
    },
    {
     "data": {
      "text/plain": [
       "<pstats.Stats at 0x24c7bdfbc70>"
      ]
     },
     "execution_count": 8,
     "metadata": {},
     "output_type": "execute_result"
    }
   ],
   "source": [
    "p.print_stats()"
   ]
  },
  {
   "cell_type": "markdown",
   "id": "25f50f9b-92fd-4414-92cc-270db93006e6",
   "metadata": {},
   "source": [
    "Similarly, we can sort according to total time taken as follows:"
   ]
  },
  {
   "cell_type": "code",
   "execution_count": 11,
   "id": "757b5a72-259f-4d49-aae1-a727cb2cdc73",
   "metadata": {},
   "outputs": [
    {
     "data": {
      "text/plain": [
       "<pstats.Stats at 0x24c7bdfbc70>"
      ]
     },
     "execution_count": 11,
     "metadata": {},
     "output_type": "execute_result"
    }
   ],
   "source": [
    "p.sort_stats(\"tottime\")"
   ]
  },
  {
   "cell_type": "code",
   "execution_count": 12,
   "id": "fcf2bdbc-b4c3-4322-9f36-8d3c8b12c065",
   "metadata": {},
   "outputs": [
    {
     "name": "stdout",
     "output_type": "stream",
     "text": [
      "Wed Jun 30 18:58:11 2021    profile.stats\n",
      "\n",
      "         36221990 function calls in 11.664 seconds\n",
      "\n",
      "   Ordered by: internal time\n",
      "\n",
      "   ncalls  tottime  percall  cumtime  percall filename:lineno(function)\n",
      "        1    6.911    6.911   10.985   10.985 julia_set.py:7(calculate_z_serial_purepython)\n",
      " 34219980    4.075    0.000    4.075    0.000 {built-in method builtins.abs}\n",
      "        1    0.451    0.451   11.637   11.637 julia_set.py:21(calc_pure_python)\n",
      "  2002000    0.195    0.000    0.195    0.000 {method 'append' of 'list' objects}\n",
      "        1    0.028    0.028   11.664   11.664 julia_set.py:1(<module>)\n",
      "        1    0.006    0.006    0.006    0.006 {built-in method builtins.sum}\n",
      "        1    0.000    0.000   11.664   11.664 {built-in method builtins.exec}\n",
      "        4    0.000    0.000    0.000    0.000 {built-in method builtins.len}\n",
      "        1    0.000    0.000    0.000    0.000 {method 'disable' of '_lsprof.Profiler' objects}\n",
      "\n",
      "\n"
     ]
    },
    {
     "data": {
      "text/plain": [
       "<pstats.Stats at 0x24c7bdfbc70>"
      ]
     },
     "execution_count": 12,
     "metadata": {},
     "output_type": "execute_result"
    }
   ],
   "source": [
    "p.print_stats()"
   ]
  },
  {
   "cell_type": "markdown",
   "id": "0a0a75ee-35b2-4e1f-803c-5e0ffd9b9d18",
   "metadata": {},
   "source": [
    "To get a sense of which function was called by which, or what are the functions being profiled we can use `print_callers()` method:"
   ]
  },
  {
   "cell_type": "code",
   "execution_count": 13,
   "id": "b3a0aba0-21c5-41c0-b3ef-e30121e181d1",
   "metadata": {},
   "outputs": [
    {
     "name": "stdout",
     "output_type": "stream",
     "text": [
      "   Ordered by: internal time\n",
      "\n",
      "Function                                          was called by...\n",
      "                                                      ncalls  tottime  cumtime\n",
      "julia_set.py:7(calculate_z_serial_purepython)     <-       1    6.911   10.985  julia_set.py:21(calc_pure_python)\n",
      "{built-in method builtins.abs}                    <- 34219980    4.075    4.075  julia_set.py:7(calculate_z_serial_purepython)\n",
      "julia_set.py:21(calc_pure_python)                 <-       1    0.451   11.637  julia_set.py:1(<module>)\n",
      "{method 'append' of 'list' objects}               <- 2002000    0.195    0.195  julia_set.py:21(calc_pure_python)\n",
      "julia_set.py:1(<module>)                          <-       1    0.028   11.664  {built-in method builtins.exec}\n",
      "{built-in method builtins.sum}                    <-       1    0.006    0.006  julia_set.py:21(calc_pure_python)\n",
      "{built-in method builtins.exec}                   <- \n",
      "{built-in method builtins.len}                    <-       2    0.000    0.000  julia_set.py:7(calculate_z_serial_purepython)\n",
      "                                                           2    0.000    0.000  julia_set.py:21(calc_pure_python)\n",
      "{method 'disable' of '_lsprof.Profiler' objects}  <- \n",
      "\n",
      "\n"
     ]
    },
    {
     "data": {
      "text/plain": [
       "<pstats.Stats at 0x24c7bdfbc70>"
      ]
     },
     "execution_count": 13,
     "metadata": {},
     "output_type": "execute_result"
    }
   ],
   "source": [
    "p.print_callers()"
   ]
  },
  {
   "cell_type": "markdown",
   "id": "aaafcfbb-828a-4f31-9be8-8fc2c7e38fa0",
   "metadata": {},
   "source": [
    "To print which function called which other functions i.e flipping the information in previous output cell, we can use `p.print_callees()`"
   ]
  },
  {
   "cell_type": "code",
   "execution_count": 14,
   "id": "91e2360b-8b21-41fc-bfb9-49694475ce93",
   "metadata": {},
   "outputs": [
    {
     "name": "stdout",
     "output_type": "stream",
     "text": [
      "   Ordered by: internal time\n",
      "\n",
      "Function                                          called...\n",
      "                                                      ncalls  tottime  cumtime\n",
      "julia_set.py:7(calculate_z_serial_purepython)     -> 34219980    4.075    4.075  {built-in method builtins.abs}\n",
      "                                                           2    0.000    0.000  {built-in method builtins.len}\n",
      "{built-in method builtins.abs}                    -> \n",
      "julia_set.py:21(calc_pure_python)                 ->       1    6.911   10.985  julia_set.py:7(calculate_z_serial_purepython)\n",
      "                                                           2    0.000    0.000  {built-in method builtins.len}\n",
      "                                                           1    0.006    0.006  {built-in method builtins.sum}\n",
      "                                                     2002000    0.195    0.195  {method 'append' of 'list' objects}\n",
      "{method 'append' of 'list' objects}               -> \n",
      "julia_set.py:1(<module>)                          ->       1    0.451   11.637  julia_set.py:21(calc_pure_python)\n",
      "{built-in method builtins.sum}                    -> \n",
      "{built-in method builtins.exec}                   ->       1    0.028   11.664  julia_set.py:1(<module>)\n",
      "{built-in method builtins.len}                    -> \n",
      "{method 'disable' of '_lsprof.Profiler' objects}  -> \n",
      "\n",
      "\n"
     ]
    },
    {
     "data": {
      "text/plain": [
       "<pstats.Stats at 0x24c7bdfbc70>"
      ]
     },
     "execution_count": 14,
     "metadata": {},
     "output_type": "execute_result"
    }
   ],
   "source": [
    "p.print_callees()"
   ]
  },
  {
   "cell_type": "markdown",
   "id": "bcaf2353-7830-4bfe-af25-a0a8b96920ad",
   "metadata": {},
   "source": [
    "### Visualising cProfile Output using SnakeViz"
   ]
  },
  {
   "cell_type": "markdown",
   "id": "fc0b1377-d7fb-4bdf-addb-51a764e1afe1",
   "metadata": {},
   "source": [
    "We can use `snakeviz` visulaiser to visualize the outputs of cProfile profiler"
   ]
  },
  {
   "cell_type": "code",
   "execution_count": null,
   "id": "ed161515-387f-4af0-807a-c5ccab5f7678",
   "metadata": {},
   "outputs": [],
   "source": [
    "!pip install snakeviz"
   ]
  },
  {
   "cell_type": "code",
   "execution_count": 16,
   "id": "c57713a2-83d9-4ca9-873b-79d542265176",
   "metadata": {},
   "outputs": [
    {
     "name": "stdout",
     "output_type": "stream",
     "text": [
      "^C\n"
     ]
    }
   ],
   "source": [
    "! snakeviz profile.stats"
   ]
  },
  {
   "cell_type": "code",
   "execution_count": null,
   "id": "1fa63f61-16e4-450c-8687-fa32b8c537e2",
   "metadata": {},
   "outputs": [],
   "source": []
  }
 ],
 "metadata": {
  "kernelspec": {
   "display_name": "Python 3",
   "language": "python",
   "name": "python3"
  },
  "language_info": {
   "codemirror_mode": {
    "name": "ipython",
    "version": 3
   },
   "file_extension": ".py",
   "mimetype": "text/x-python",
   "name": "python",
   "nbconvert_exporter": "python",
   "pygments_lexer": "ipython3",
   "version": "3.9.5"
  }
 },
 "nbformat": 4,
 "nbformat_minor": 5
}
