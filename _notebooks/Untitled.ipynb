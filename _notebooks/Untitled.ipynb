{
 "cells": [
  {
   "cell_type": "markdown",
   "id": "716b5248-c5ab-4b15-b9dc-859ee07d8ffa",
   "metadata": {},
   "source": [
    "# Why Squared Error Minimization = Maximum Likelihood Estimation\n",
    "> An investigation into why minimizing squared error is the same as maximum likelihood estimation\n",
    "- toc: true \n",
    "- badges: false\n",
    "- comments: true\n",
    "- categories: [deep-learning, mathematics]\n",
    "- image: images/saddle.JPG "
   ]
  },
  {
   "cell_type": "markdown",
   "id": "1ab7e61a-b31e-4449-a107-9d938424639b",
   "metadata": {},
   "source": [
    "# Pre-requisites"
   ]
  },
  {
   "cell_type": "markdown",
   "id": "e8b71199-4e9b-4c10-9034-8f1b921ae87f",
   "metadata": {},
   "source": [
    "### Minimizing the squared error loss"
   ]
  },
  {
   "cell_type": "markdown",
   "id": "42bf331f-8ba7-461e-aca1-6714562371df",
   "metadata": {},
   "source": [
    "Minimizing the Squared Error is the technique any machine learning practitioner uses while tackling a Regression problem in which the target is a continuous variable. Let's say we have collected all our independent variables in a matrix ${X}$ of shape (m,n) where m is the number of training examples and each training example is represented by a n dimensional vector. All the dependent variables are represented by a vector ${Y}$ of length m (each training example has a real number as it's target). Our task is to find a vector ${\\hat\\beta}$ of length n such that ${X\\hat\\beta = Y}$. Now this task can be simple solved by saying ${\\hat\\beta = X^{-1}Y}$ but this is the correct answer only in the case when m = n i.e ${X}$ is a squared matrix and ${Y}$ lies in the column space of ${X}$ i.e Y is simply a weighted sum of columns of X. If that's not the case ${X\\hat\\beta}$ can never be equal to ${Y}$. All we can hope to do is minimize the distance between the two vectors ${X\\hat\\beta}$ and ${Y}$. The distance we choose to minimize is ${(Y-X\\hat\\beta)^{2}}$ which can also be written as ${(Y-X\\hat\\beta)^{T}(Y-X\\hat\\beta)}$. Let's denote this error by ${\\epsilon}$. Now, if you are like me, you may wonder why don't we simply minimize ${Y - X\\beta}$ or some other power of ${Y - X\\beta}$. This is perfectly valid question to ask and we are going to explore this in this blog. For now, just note that ${\\hat\\beta = argmin_{\\beta} \\space(Y-X\\beta)^{T}(Y-X\\beta)}$.  "
   ]
  },
  {
   "cell_type": "markdown",
   "id": "80ca6a15-471d-491f-a280-75bcb3f888bc",
   "metadata": {},
   "source": [
    "### Maximum Likelihood Estimation"
   ]
  },
  {
   "cell_type": "markdown",
   "id": "8c861ba1-f422-43b1-874e-af95ca5d9a02",
   "metadata": {},
   "source": [
    "Another way of looking at the regression task is that we have m observations of ${(x,y)}$ where ${x}$ is a n dimensional vector and ${y}$ is it's corresponding target value. These m data points come from a true but unknown data distribution ${P(X,Y\\space;\\space\\theta)}$ where ${\\theta_{true}}$ is the parameter of the distribution. Let's say we want to predict how many matches will each of the player win out of his next 10 matches by just looking at the player's age and ATP ranking. Therefore, our independent variable is ${X = [\\text Age, \\text Ranking]}$ and dependent variable is ${Y =}$ number of matches won out of next 10 for eg. Nadal will be represented by vector ${(35,3)}$ and Federer by ${(39,8)}$. What do you think ${P([18,123], 10)}$ will be? In other words what is the probability that a player aged 18 and ranked 123 wins all 10 of his next matches? We can safely say that this a highly unlikely event since the player is inexperienced. In the same way, we would expect ${P([30,1], 8)}$ to be high since the player is ranked highest in the world. Now instead of guessing, we want to construct a probability distribution over random variables ${X}$ and ${Y}$. Once we have such a distribution we can simply plug in age and ranking of any player and calculate ${P([\\text age,\\text ranking], Y\\space ; \\space \\theta_{true})}$ for each ${Y}$ in ${(0,10)}$ and report the one which gave the highest probability. Unfortunately, we can't know true distribution since for that we would have to collect data from every single active player which can be a lot. But, we can estimate the true distribution. Any distribution is entirely characterised by it's parameters. for eg a Gaussian distribution is charachterised by it's mean and variance and is denoted as ${N (x; \\mu, \\sigma^{2})}$. If we can estimate the parameters of a distribution, then can construct a good estimate of the distribution as a whole. Let's denote the estimate of parameters ${\\theta_{true}}$ as ${\\hat\\theta}$.\n",
    "\n",
    "To construct such estimate of a distribution we collect the age and ranking of m players and observe them for the next 10 matches and note down how many of those matches they won. Let each of these observations be represented by ${x^{i}, y^{i}}$ where each ${x^{i}}$ is itself a vector of length two containing the age and ranking of ${i^{th}}$ player and ${y^{i}}$ is the number of matches won by that player out of 10. Let's assume every observation is independent of any other observation. Given each ${x^{i}}$ our distribution should predict ${y^{i}}$ and this can only happen when ${P(x^{i}, y^{i}\\space ;\\space \\hat\\theta)}$ is maximum of among all other ${P(x^{i}, y\\space ; \\space \\hat\\theta)}$ where ${y \\neq y_{i}}$. The quantity ${P(x^{i}, y^{i})}$ is known as likelihood of the observation  ${(x^{i}, y^{i})}$. Since we want likelihood of all the observations to be maximum, we might as well say that we we want the quantity ${P(x^{1}, y^{1})\\cdot P(x^{2}, y^{2})\\cdot P(x^{3}, y^{3}) ... P(x^{m}, y^{m})}$ to be maximum which in short can be written as ${\\Pi_{i=1}^{m}P(x^{i}, y^{i}\\space ; \\space \\theta)}$. Then ${\\hat\\theta}$ will be whatever value of ${\\theta}$ which can achieve this feat.\n",
    "\n",
    "${\\therefore \\hat\\theta = argmax_{\\theta} \\space\\Pi_{i=1}^{m} P(x^{i}, y^{i}\\space ; \\space \\theta)}$. \n",
    "\n",
    "This method of estimating ${\\theta_{true}}$ is called maximum likelihood estimation and obtained ${\\hat\\theta}$ is called maximum likelihood estimate of ${\\theta_{true}}$. Maximum likelihood estimates of true parameters have many desirable properties, most important of which is: As we increase the number of training examples, the probability of estimates being close to true parameter increases. Well, this is obvious for any type of estimate.  What's special about the maximum likelihood estimates is that they do so the fastest of any other type of estimate. In other words, if we are using maximum likelihood estimates to estimate our paramters and someone else is using other methods, then our performance on prediction will improve faster on collecting more training data.\n",
    "\n",
    "On a side note we can si"
   ]
  },
  {
   "cell_type": "markdown",
   "id": "3052af72-795d-4928-9733-822b8406f42c",
   "metadata": {},
   "source": [
    "### Minimising Squared Error ${\\rightarrow}$ Maximising Likelihood"
   ]
  },
  {
   "cell_type": "markdown",
   "id": "735d8047-b850-4f58-94ed-312554320215",
   "metadata": {},
   "source": [
    "Let's get back to minimising sqaured error and see through a sequence of logical steps how it is maximum likelihood estimation in disguise. \n",
    "\n",
    "${\\hat\\beta = argmin_{\\beta} \\space(Y-X\\beta)^{T}(Y-X\\beta) = argmin_{\\beta} \\space(Y-X\\beta)^{T}\\space I\\space(Y-X\\beta)}$ where ${I}$ is the identity matrix.\n",
    "\n",
    "Mutltiplying a function by a negative number turns it's minimas to maximas and vice versa. So let's multiply our function by ${\\frac{-1}{2}}$\n",
    "\n",
    "${\\therefore \\hat\\beta = argmax_{\\beta} \\space\\frac{-1}{2}(Y-X\\beta)^{T}\\space I\\space(Y-X\\beta)}$\n",
    "\n",
    "Exponentiating the function and then taking it's log returns the function itself, because log and exp are inverse functions of each other.\n",
    "\n",
    "${\\therefore \\hat\\beta = argmax_{\\beta} \\space log\\space exp\\frac{-1}{2}(Y-X\\beta)^{T}\\space I\\space(Y-X\\beta)}$.\n",
    "\n",
    "Subtracting a constant from a function doesn't change the location of it's maximas and minimas. So, let's subtract ${log \\sqrt{2\\pi^{k}}}$\n",
    "\n",
    "${\\therefore \\hat\\beta = argmax_{\\beta} \\space log\\space exp\\frac{-1}{2}(Y-X\\beta)^{T}\\space I\\space(Y-X\\beta) - log \\sqrt{2\\pi^{k}}}$.\n",
    "\n",
    "Since ${log a - log b = log \\frac{a}{b}}$\n",
    "\n",
    "${\\therefore \\hat\\beta = argmax_{\\beta} \\space log\\space \\frac{\\normalsize exp\\frac{-1}{2}(Y-X\\beta)^{T}\\space I\\space(Y-X\\beta)}{\\normalsize\\sqrt{2\\pi^{k}}}}$.\n",
    "\n",
    "Just to jog your memory, let me write the expression of probability density of a random variable ${W}$ which has a multivariate Normal distribution whose mean vector is ${\\mu}$ and covariance matrix is ${I}$\n",
    "\n",
    "${P_{normal}(W\\space ; \\mu, I) = \\frac{\\normalsize exp \\frac{-1}{2}(W-\\mu)^{T}\\space I\\space(W-\\mu)}{\\normalsize\\sqrt{2\\pi^{k}}}}$. This equation looks strikingly familiar to the equation of our morphed square minimization objective. That is indeed the case, but we have to be careful. We may be tempted to interpret ${ \\normalsize\\frac{ exp\\frac{-1}{2}(Y-X\\beta)^{T}\\space I\\space(Y-X\\beta)}{\\sqrt{2\\pi^{k}}}}$ as ${P_{normal}(Y\\space ; X\\beta ,I)}$ but remember that the mean of a normal distribution is a constant quantity and in our interpretation it's a variable ${X\\beta}$. But, the quantity ${X\\beta}$ is constant for a given ${X}$. Therefore, our interpretation should be ${ \\normalsize\\frac{ exp\\frac{-1}{2}(Y-X\\beta)^{T}\\space I\\space(Y-X\\beta)}{\\sqrt{2\\pi^{k}}} = \\small P_{normal}(Y|X\\space ; X\\beta ,I)}$, which in words is read as probability of ${Y}$ given ${X}$.\n",
    "\n",
    "![](images/normal-dist.jpg)\n",
    "\n",
    "S"
   ]
  },
  {
   "cell_type": "code",
   "execution_count": null,
   "id": "abe8f38e-8192-4e76-bf3d-c703396b21f2",
   "metadata": {},
   "outputs": [],
   "source": []
  }
 ],
 "metadata": {
  "kernelspec": {
   "display_name": "Python 3",
   "language": "python",
   "name": "python3"
  },
  "language_info": {
   "codemirror_mode": {
    "name": "ipython",
    "version": 3
   },
   "file_extension": ".py",
   "mimetype": "text/x-python",
   "name": "python",
   "nbconvert_exporter": "python",
   "pygments_lexer": "ipython3",
   "version": "3.9.5"
  }
 },
 "nbformat": 4,
 "nbformat_minor": 5
}
