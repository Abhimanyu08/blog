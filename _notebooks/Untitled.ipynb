{
 "cells": [
  {
   "cell_type": "markdown",
   "metadata": {},
   "source": [
    "# Convergence of Random Variables\n",
    "> An introduction to one of the most important and counter-intuitive concept in probability theory.\n",
    "\n",
    "- toc: true \n",
    "- badges: false\n",
    "- comments: true\n",
    "- categories: [probability-theory]\n",
    "- image: images/1.jpg"
   ]
  },
  {
   "cell_type": "markdown",
   "metadata": {},
   "source": [
    "## Notations:\n",
    "- ${R}$ = set of real numbers\n",
    "- ${\\Omega}$ = sample space of an event\n",
    "- ${\\omega}$ = A particular event in the sample space"
   ]
  },
  {
   "cell_type": "markdown",
   "metadata": {},
   "source": [
    "## What Is A Random Variable?\n",
    "To make inferences about events and for predictions we need to map events to some real numbers so that we can perform mathematical calculations and methods. A random variable does just that. A random variable is a mapping defined as ${X: \\omega \\rightarrow R}$. Thus ${X}$ is a random variable which maps a particular event in the sample space ${\\Omega}$ to a real number, .for.eg, if we toss a coin two times then our sample space would be ${(H,H),(H,T),(T,T),(T,H)}$ where T and H represent tails and heads respectively. Let's define X as number of heads in single trial of the experiment, then ${X(H,H) = 2}$. Probability that ${P(X=1)}$ is ${P((H,T))}$ + ${P((T,H))}$ = 0.25+0.25. A function that maps each value of X to it's proabability score is called pdf of X.\n",
    "\n",
    "Random variables can be continous too. for.eg if we define X as the temperature at a given time on a particular day. Then X can have any real number value from ${0K}$ to ${10^{32}K}$.\n"
   ]
  },
  {
   "cell_type": "code",
   "execution_count": null,
   "metadata": {},
   "outputs": [],
   "source": []
  }
 ],
 "metadata": {
  "kernelspec": {
   "display_name": "Python 3",
   "language": "python",
   "name": "python3"
  },
  "language_info": {
   "codemirror_mode": {
    "name": "ipython",
    "version": 3
   },
   "file_extension": ".py",
   "mimetype": "text/x-python",
   "name": "python",
   "nbconvert_exporter": "python",
   "pygments_lexer": "ipython3",
   "version": "3.7.7"
  }
 },
 "nbformat": 4,
 "nbformat_minor": 4
}
