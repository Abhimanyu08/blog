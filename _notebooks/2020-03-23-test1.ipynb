{
 "cells": [
  {
   "cell_type": "markdown",
   "metadata": {},
   "source": [
    "# Intuitive Introduction To Bayes' Theorem\n",
    " \n",
    " >This blog posts aims at introducing the reader to one of the most important concept and theorems in probability theory, the Bayes' theorem. This theorem may seem counterintutive at first but I hope to instill an intutive understanding of the theorem in the minds of readers by the end of this blog post.\n",
    "\n",
    "- toc: true\n",
    "- badges: false\n",
    "- comments: true\n",
    "- categories: [Probability, Bayes' Theorem]\n",
    "- image: images/chart-preview.png"
   ]
  }
 ],
 "metadata": {
  "kernelspec": {
   "display_name": "Python 3",
   "language": "python",
   "name": "python3"
  },
  "language_info": {
   "codemirror_mode": {
    "name": "ipython",
    "version": 3
   },
   "file_extension": ".py",
   "mimetype": "text/x-python",
   "name": "python",
   "nbconvert_exporter": "python",
   "pygments_lexer": "ipython3",
   "version": "3.7.4"
  }
 },
 "nbformat": 4,
 "nbformat_minor": 2
}
